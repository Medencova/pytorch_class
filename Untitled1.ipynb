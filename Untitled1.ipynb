{
 "cells": [
  {
   "cell_type": "code",
   "execution_count": 10,
   "metadata": {},
   "outputs": [
    {
     "name": "stdout",
     "output_type": "stream",
     "text": [
      "ToPILImage() <class 'PIL.Image.Image'>\n",
      "RandomCrop(size=(256, 256), padding=0) <class 'PIL.Image.Image'>\n",
      "RandomHorizontalFlip(p=0.5) <class 'PIL.Image.Image'>\n",
      "ToTensor() <class 'torch.Tensor'>\n",
      "Normalize(mean=(0.4914, 0.4822, 0.4465), std=(0.2023, 0.1994, 0.201)) <class 'torch.Tensor'>\n"
     ]
    }
   ],
   "source": [
    "import torchvision.transforms as transforms\n",
    "import cv2\n",
    "\n",
    "transforms = [\n",
    "   transforms.ToPILImage(),\n",
    "   transforms.RandomCrop(256),\n",
    "   transforms.RandomHorizontalFlip(),\n",
    "   transforms.ToTensor(),\n",
    "   transforms.Normalize((0.4914, 0.4822, 0.4465), (0.2023, 0.1994, 0.2010)),\n",
    "]\n",
    "x = cv2.imread('train/ec_5.jpg')\n",
    "\n",
    "for func in transforms:\n",
    "   x = func(x)\n",
    "   print(func,  type(x))"
   ]
  }
 ],
 "metadata": {
  "kernelspec": {
   "display_name": "Python 3",
   "language": "python",
   "name": "python3"
  },
  "language_info": {
   "codemirror_mode": {
    "name": "ipython",
    "version": 3
   },
   "file_extension": ".py",
   "mimetype": "text/x-python",
   "name": "python",
   "nbconvert_exporter": "python",
   "pygments_lexer": "ipython3",
   "version": "3.6.6"
  }
 },
 "nbformat": 4,
 "nbformat_minor": 2
}
